{
 "cells": [
  {
   "cell_type": "code",
   "execution_count": 5,
   "id": "14c4faab",
   "metadata": {},
   "outputs": [
    {
     "name": "stdout",
     "output_type": "stream",
     "text": [
      "Optimal tour: ('A', 'C', 'B')\n",
      "Optimal distance: 65\n"
     ]
    }
   ],
   "source": [
    "import itertools\n",
    "cities = ['A', 'B', 'C' ]\n",
    "distances = {\n",
    "    ('A', 'B'): 10,\n",
    "    ('A', 'C'): 15,\n",
    "    ('B', 'A'): 20,\n",
    "    ('B', 'C'): 25,\n",
    "    ('C', 'B'): 30,\n",
    "    ('C', 'A'): 35,   \n",
    "}\n",
    "tours = itertools.permutations(cities)\n",
    "min_distance = float('inf')\n",
    "for tour in tours:\n",
    "    distance = sum(distances[(tour[i], tour[i+1])] for i in range(len(cities)-1))\n",
    "    distance += distances[(tour[-1], tour[0])]\n",
    "    if distance < min_distance:\n",
    "        min_distance = distance\n",
    "        optimal_tour = tour\n",
    "print(\"Optimal tour:\", optimal_tour)\n",
    "print(\"Optimal distance:\", min_distance)"
   ]
  },
  {
   "cell_type": "code",
   "execution_count": null,
   "id": "0722599a",
   "metadata": {},
   "outputs": [],
   "source": []
  }
 ],
 "metadata": {
  "kernelspec": {
   "display_name": "Python 3 (ipykernel)",
   "language": "python",
   "name": "python3"
  },
  "language_info": {
   "codemirror_mode": {
    "name": "ipython",
    "version": 3
   },
   "file_extension": ".py",
   "mimetype": "text/x-python",
   "name": "python",
   "nbconvert_exporter": "python",
   "pygments_lexer": "ipython3",
   "version": "3.9.13"
  }
 },
 "nbformat": 4,
 "nbformat_minor": 5
}
