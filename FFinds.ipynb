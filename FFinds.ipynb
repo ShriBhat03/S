{
 "cells": [
  {
   "cell_type": "code",
   "execution_count": null,
   "id": "93d8163f",
   "metadata": {},
   "outputs": [],
   "source": [
    "import pandas as pd\n",
    "import numpy as np\n",
    "import csv\n",
    "data=pd.read_csv('tr.csv')\n",
    "print(data)\n",
    "d=np.array(data)[:,:-1]\n",
    "print(\"attributes are=\")\n",
    "print(d)\n",
    "target=np.array(data)[:,-1]\n",
    "print(\"target=\")\n",
    "print(target)\n",
    "define train(c,t)\n",
    "   for i, in val in enumerated(t)\n",
    "    if val==\"yes\";\n",
    "    sh=c[i].copy();\n",
    "    break\n",
    "    for i, in val in  enumerated(c)\n",
    "    if val t[i]=='yes';\n",
    "    for x in range (len(sh))\n",
    "    if val[x]!=sh[x];\n",
    "        sh[x]='?'\n",
    "    else\n",
    "    pass\n",
    "    return sh\n",
    "print ('final hypothesis:' train(d, target))\n",
    "    "
   ]
  }
 ],
 "metadata": {
  "kernelspec": {
   "display_name": "Python 3 (ipykernel)",
   "language": "python",
   "name": "python3"
  },
  "language_info": {
   "codemirror_mode": {
    "name": "ipython",
    "version": 3
   },
   "file_extension": ".py",
   "mimetype": "text/x-python",
   "name": "python",
   "nbconvert_exporter": "python",
   "pygments_lexer": "ipython3",
   "version": "3.9.13"
  }
 },
 "nbformat": 4,
 "nbformat_minor": 5
}
