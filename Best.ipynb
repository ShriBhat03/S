{
 "cells": [
  {
   "cell_type": "code",
   "execution_count": 1,
   "id": "bd157027",
   "metadata": {},
   "outputs": [
    {
     "name": "stdout",
     "output_type": "stream",
     "text": [
      "\n",
      "Enter the number of nodes: 4\n",
      "Enter the number of edges: 5\n",
      "Enter the edges along with their weights:\n",
      "0 1 1\n",
      "0 2 1\n",
      "0 3 2\n",
      "2 3 2\n",
      "1 3 3\n",
      "Enter the Source Node: 2\n",
      "Enter the Target/Destination Node: 1\n",
      "\n",
      "Path: 2 0 1 "
     ]
    }
   ],
   "source": [
    "from queue import PriorityQueue\n",
    "v = 5\n",
    "graph = [[] for i in range(v)]\n",
    "def best_first_search(source, target, n):\n",
    "  visited = [0] * n\n",
    "  visited[0] = True\n",
    "  pq = PriorityQueue()\n",
    "  pq.put((0, source))\n",
    "  while pq.empty() == False:\n",
    "    u = pq.get()[1]\n",
    "    print(u, end=\" \")\n",
    "    if u == target:\n",
    "      break\n",
    "    for v, c in graph[u]:\n",
    "      if visited[v] == False:\n",
    "        visited[v] = True\n",
    "        pq.put((c, v))\n",
    "  print()\n",
    "def addedge(x, y, cost):\n",
    "  graph[x].append((y, cost))\n",
    "  graph[y].append((x, cost))\n",
    "addedge(0, 1, 5)\n",
    "addedge(0, 2, 1)\n",
    "addedge(2, 3, 2)\n",
    "addedge(1, 4, 1)\n",
    "addedge(3, 4, 2)\n",
    "source = 0\n",
    "target = 4\n",
    "best_first_search(source, target, v)"
   ]
  },
  {
   "cell_type": "code",
   "execution_count": null,
   "id": "780025e9",
   "metadata": {},
   "outputs": [],
   "source": []
  }
 ],
 "metadata": {
  "kernelspec": {
   "display_name": "Python 3 (ipykernel)",
   "language": "python",
   "name": "python3"
  },
  "language_info": {
   "codemirror_mode": {
    "name": "ipython",
    "version": 3
   },
   "file_extension": ".py",
   "mimetype": "text/x-python",
   "name": "python",
   "nbconvert_exporter": "python",
   "pygments_lexer": "ipython3",
   "version": "3.9.13"
  }
 },
 "nbformat": 4,
 "nbformat_minor": 5
}
